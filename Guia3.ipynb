{
 "cells": [
  {
   "cell_type": "code",
   "execution_count": 2,
   "id": "37d586de",
   "metadata": {},
   "outputs": [
    {
     "name": "stdout",
     "output_type": "stream",
     "text": [
      "Note: you may need to restart the kernel to use updated packages.\n"
     ]
    }
   ],
   "source": [
    "# (Opcional en local/Colab) Instalar dependencias\n",
    "%pip install --quiet openai python-dotenv"
   ]
  },
  {
   "cell_type": "code",
   "execution_count": 1,
   "id": "65e5606c",
   "metadata": {},
   "outputs": [
    {
     "name": "stdout",
     "output_type": "stream",
     "text": [
      "Cliente inicializado. Modelo listo para consultas.\n"
     ]
    }
   ],
   "source": [
    "# 3) Cargar la clave y crear el cliente\n",
    "import os\n",
    "from dotenv import load_dotenv\n",
    "from openai import OpenAI\n",
    "\n",
    "load_dotenv()  # Lee el archivo .env\n",
    "client = OpenAI(api_key=os.getenv(\"OPENAI_API_KEY\"))\n",
    "print(\"Cliente inicializado. Modelo listo para consultas.\")"
   ]
  },
  {
   "cell_type": "code",
   "execution_count": 4,
   "id": "c8ac7019",
   "metadata": {},
   "outputs": [
    {
     "name": "stdout",
     "output_type": "stream",
     "text": [
      "La inteligencia artificial en la educación se refiere al uso de tecnologías avanzadas que simulan la inteligencia humana para personalizar el aprendizaje, automatizar tareas administrativas y proporcionar retroalimentación en tiempo real. Esto permite a los educadores adaptar sus métodos de enseñanza a las necesidades individuales de los estudiantes, mejorando así su experiencia y resultados académicos.\n"
     ]
    }
   ],
   "source": [
    "# 5) Primera consulta: respuesta libre\n",
    "prompt = \"Explica en dos frases qué es la inteligencia artificial en la educación.\"\n",
    "response = client.chat.completions.create(\n",
    "    model=\"gpt-4o-mini\",\n",
    "    messages=[{\"role\": \"user\", \"content\": prompt}],\n",
    "    temperature=0.7  # más creativo que 0.2, menos que 1.0\n",
    ")\n",
    "print(response.choices[0].message.content)"
   ]
  },
  {
   "cell_type": "code",
   "execution_count": 5,
   "id": "61fc8aab",
   "metadata": {},
   "outputs": [
    {
     "name": "stdout",
     "output_type": "stream",
     "text": [
      "{\n",
      "  \"operation\": \"explanation\",\n",
      "  \"input\": \"¿Qué es aprendizaje supervisado?\",\n",
      "  \"output\": \"El aprendizaje supervisado es un tipo de aprendizaje automático donde un modelo se entrena utilizando un conjunto de datos etiquetados. Esto significa que cada entrada del conjunto de datos tiene una salida correspondiente conocida, lo que permite al modelo aprender a predecir la salida correcta para nuevas entradas. Este enfoque se utiliza comúnmente en tareas como clasificación y regresión.\"\n",
      "}\n",
      "\n",
      "Valid JSON → {'operation': 'explanation', 'input': '¿Qué es aprendizaje supervisado?', 'output': 'El aprendizaje supervisado es un tipo de aprendizaje automático donde un modelo se entrena utilizando un conjunto de datos etiquetados. Esto significa que cada entrada del conjunto de datos tiene una salida correspondiente conocida, lo que permite al modelo aprender a predecir la salida correcta para nuevas entradas. Este enfoque se utiliza comúnmente en tareas como clasificación y regresión.'}\n"
     ]
    }
   ],
   "source": [
    "# 6) Respuesta estructurada en JSON para automatización\n",
    "import json\n",
    "\n",
    "query = \"¿Qué es aprendizaje supervisado?\"\n",
    "schema_instruction = (\n",
    "    \"Responde en formato JSON con las claves: operation, input, output. \"\n",
    "    \"operation debe ser 'explanation'; input debe repetir la pregunta; output la explicación clara y breve.\"\n",
    ")\n",
    "response_json = client.chat.completions.create(\n",
    "    model=\"gpt-4o-mini\",\n",
    "    messages=[\n",
    "        {\"role\": \"system\", \"content\": schema_instruction},\n",
    "        {\"role\": \"user\", \"content\": query}\n",
    "    ],\n",
    "    temperature=0.3,       # más determinista para formatos estructurados\n",
    "    max_tokens=300         # suficiente para una explicación breve\n",
    ")\n",
    "text = response_json.choices[0].message.content\n",
    "print(text)\n",
    "\n",
    "# (Opcional) intentar cargar como JSON si el modelo devolvió un objeto válido\n",
    "try:\n",
    "    data = json.loads(text)\n",
    "    print(\"\\nValid JSON →\", data)\n",
    "except json.JSONDecodeError:\n",
    "    print(\"\\nLa salida no es JSON válido literal. Puedes parsearla manualmente o usar validadores/funciones JSON del proveedor.\")"
   ]
  },
  {
   "cell_type": "code",
   "execution_count": 6,
   "id": "20299ad3",
   "metadata": {},
   "outputs": [
    {
     "name": "stdout",
     "output_type": "stream",
     "text": [
      "{\n",
      "  \"prompt\": \"Explica brevemente el principio de funcionamiento de un árbol de decisión.\",\n",
      "  \"respuesta\": \"Un árbol de decisión es un modelo de aprendizaje automático que utiliza un gráfico en forma de árbol para tomar decisiones basadas en preguntas sobre las características de los datos. Cada nodo interno representa una prueba en una característica, cada rama representa el resultado de esa prueba y cada hoja representa una clase o decisión final, permitiendo así clasificar o predecir resultados de manera estructurada.\"\n",
      "}\n"
     ]
    }
   ],
   "source": [
    "# Plantilla reutilizable para el curso\n",
    "def ask_model(prompt: str,\n",
    "              model: str = \"gpt-4o-mini\",\n",
    "              temperature: float = 0.3,\n",
    "              max_tokens: int = 400,\n",
    "              system: str | None = None):\n",
    "    messages = []\n",
    "    if system:\n",
    "        messages.append({\"role\": \"system\", \"content\": system})\n",
    "    messages.append({\"role\": \"user\", \"content\": prompt})\n",
    "    resp = client.chat.completions.create(\n",
    "        model=model,\n",
    "        messages=messages,\n",
    "        temperature=temperature,\n",
    "        max_tokens=max_tokens\n",
    "    )\n",
    "    return resp.choices[0].message.content\n",
    "\n",
    "# Ejemplo de uso\n",
    "print(ask_model(\n",
    "    \"Explica brevemente el principio de funcionamiento de un árbol de decisión.\",\n",
    "    temperature=0.4,\n",
    "    system=\"Responde en dos oraciones, tono docente y preciso. Siempre responde JSON con llaves promt y respuesta\"\n",
    "))"
   ]
  },
  {
   "cell_type": "markdown",
   "id": "ddbeb379",
   "metadata": {},
   "source": [
    "##Ejercicios propuestos"
   ]
  },
  {
   "cell_type": "code",
   "execution_count": 7,
   "id": "a0275365",
   "metadata": {},
   "outputs": [
    {
     "name": "stdout",
     "output_type": "stream",
     "text": [
      "\n",
      "🌡️ Temperature = 0.1\n",
      "La inteligencia artificial ha revolucionado el arte digital al permitir la creación de obras innovadoras y personalizadas, ampliando las posibilidades creativas y desafiando las nociones tradicionales de autoría y expresión artística.\n",
      "\n",
      "🌡️ Temperature = 0.5\n",
      "La inteligencia artificial ha transformado el arte digital al permitir la creación de obras innovadoras y personalizadas, ampliando las posibilidades creativas y democratizando el acceso a herramientas artísticas avanzadas.\n",
      "\n",
      "🌡️ Temperature = 0.9\n",
      "La inteligencia artificial ha revolucionado el arte digital al permitir la generación automática de obras, la personalización a gran escala y la exploración de nuevas formas creativas, desdibujando las fronteras entre el artista y la máquina.\n"
     ]
    }
   ],
   "source": [
    "for temp in [0.1, 0.5, 0.9]:\n",
    "    respuesta = ask_model(\n",
    "        f\"Describe en una frase el impacto de la inteligencia artificial en el arte digital.\",\n",
    "        temperature=temp\n",
    "    )\n",
    "    print(f\"\\n🌡️ Temperature = {temp}\\n{respuesta}\")"
   ]
  },
  {
   "cell_type": "code",
   "execution_count": 8,
   "id": "42bd74e6",
   "metadata": {},
   "outputs": [
    {
     "name": "stdout",
     "output_type": "stream",
     "text": [
      "{\n",
      "  \"tema\": \"Ciberseguridad en Educación\",\n",
      "  \"descripcion\": \"La ciberseguridad en educación se refiere a las prácticas y medidas implementadas para proteger la información y los sistemas digitales utilizados en entornos educativos. Esto incluye la protección de datos personales de estudiantes y personal, la seguridad de las plataformas de aprendizaje en línea, y la prevención de ataques cibernéticos. La ciberseguridad en este contexto es crucial para garantizar un entorno de aprendizaje seguro y confiable, donde se fomente el uso responsable de la tecnología y se minimicen los riesgos asociados con el acceso a la información digital.\"\n",
      "}\n"
     ]
    }
   ],
   "source": [
    "system_rule = (\n",
    "    \"Responde siempre en formato JSON con las claves 'tema' y 'descripcion'. \"\"No incluyas texto adicional fuera del JSON.\")\n",
    "\n",
    "prompt = \"Explica qué es la ciberseguridad en educación.\"\n",
    "respuesta = ask_model(\n",
    "    prompt,\n",
    "    system=system_rule,\n",
    "    temperature=0.3)\n",
    "print(respuesta)"
   ]
  },
  {
   "cell_type": "code",
   "execution_count": 9,
   "id": "77738f3e",
   "metadata": {},
   "outputs": [
    {
     "name": "stdout",
     "output_type": "stream",
     "text": [
      "```json\n",
      "{\n",
      "  \"operation\": \"convert_list_to_uppercase\",\n",
      "  \"input\": [\"juan\", \"maria\", \"pedro\", \"luisa\"],\n",
      "  \"steps\": [\n",
      "    \"Definir una lista de nombres en minúsculas.\",\n",
      "    \"Utilizar una comprensión de lista para iterar sobre cada nombre en la lista original.\",\n",
      "    \"Aplicar el método .upper() a cada nombre dentro de la comprensión de lista.\",\n",
      "    \"Almacenar el resultado en una nueva lista.\"\n",
      "  ],\n",
      "  \"output\": [\"JUAN\", \"MARIA\", \"PEDRO\", \"LUISA\"]\n",
      "}\n",
      "```\n"
     ]
    }
   ],
   "source": [
    "system = \"Responde en JSON con las claves: operation, input, steps (lista), output.\"\n",
    "prompt = (\n",
    "    \"Explica cómo convertir una lista de nombres en mayúsculas usando Python.\")\n",
    "\n",
    "respuesta = ask_model(\n",
    "    prompt,\n",
    "    system=system,\n",
    "    temperature=0.4)\n",
    "print(respuesta)"
   ]
  },
  {
   "cell_type": "code",
   "execution_count": 10,
   "id": "67849d09",
   "metadata": {},
   "outputs": [
    {
     "name": "stdout",
     "output_type": "stream",
     "text": [
      "En un futuro no muy lejano, en una pequeña ciudad donde la tecnología y el arte coexistían, vivía un robot llamado Artie. Dise\n"
     ]
    }
   ],
   "source": [
    "respuesta = ask_model(\n",
    "    \"Redacta una breve historia sobre un robot que aprende a pintar cuadros.\",\n",
    "    temperature=0.7,\n",
    "    max_tokens=30)\n",
    "print(respuesta)"
   ]
  }
 ],
 "metadata": {
  "kernelspec": {
   "display_name": ".venv",
   "language": "python",
   "name": "python3"
  },
  "language_info": {
   "codemirror_mode": {
    "name": "ipython",
    "version": 3
   },
   "file_extension": ".py",
   "mimetype": "text/x-python",
   "name": "python",
   "nbconvert_exporter": "python",
   "pygments_lexer": "ipython3",
   "version": "3.11.9"
  }
 },
 "nbformat": 4,
 "nbformat_minor": 5
}
